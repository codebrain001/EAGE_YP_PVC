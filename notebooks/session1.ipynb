{
 "cells": [
  {
   "cell_type": "markdown",
   "metadata": {},
   "source": [
    "![EAGE logo](../img/eage.png)"
   ]
  },
  {
   "cell_type": "markdown",
   "metadata": {},
   "source": [
    "# **Python Virtual Classroom powered by Nigerian Chapter Young Professionals**\n",
    "\n",
    "## **Class: Importing and Data preprocessing**\n",
    "### *Presented by Aboze Brain John*\n",
    "    \n",
    "At the end of this class, students would understand concepts associated with importing data and theories associated with data cleaning. \n",
    "\n",
    "\n",
    "#### Requirements for this class:\n",
    "1. A computer\n",
    "2. Access to the internet\n",
    "3. An interest in learning Python\n",
    "4. High level of proficiency in English because of the technical language used in some part of the course\n",
    "5. Basic math knowledge: addition, subtraction, multiplication, division, knowledge of types of numbers such as integers and decimal numbers, exponentiation, etc.   "
   ]
  },
  {
   "cell_type": "markdown",
   "metadata": {},
   "source": [
    "***"
   ]
  },
  {
   "cell_type": "markdown",
   "metadata": {},
   "source": [
    "irstly, addressing the first question, a quick outline of what can be imported in python are:\n",
    "\n",
    "1. Module: Python script files (.py files)\n",
    "2. Python objects: A collection of data and methods inside a module \n",
    "3. Python built-in modules: Native installed python scripts\n",
    "4. Packages: A collection of related scripts(modules), which must contains an __init__.py file.\n",
    "5. Library: A collection of packages.\n",
    "6. Data: Facts and statistics collected together for reference or analysis.\n",
    "Secondly, we can import all the items listed above into our our python script and/or jupyter notebook.\n",
    "\n",
    "💡 A Python script is a collection of commands in a file designed to be executed, usually have an etention name of '.py'. While a Jupyter notebook is an open-source web application that allows you to create and share documents that contain live code, equations, visualizations and narrative text with an extention of '.ipynb'. \n",
    "\n",
    "\n",
    "In order to have a well structured and understandable code, import what is only needed per time because unnecessary import can sometimes lead to a big waste of memory, breed redundacy and clashes of functions from different modules with coincidental names."
   ]
  },
  {
   "cell_type": "markdown",
   "metadata": {},
   "source": [
    "***"
   ]
  },
  {
   "cell_type": "markdown",
   "metadata": {},
   "source": [
    "#### Python Import Syntax (How to import)\n",
    "\n",
    "Let's explore the various ways we can import into the python environment. For this to be fully understood, let's explain using Python's built in Math module which provides access to the mathematical functions. Let's try to compute the following with the different methods:\n",
    "\n",
    "$$x = \\sqrt{144}$$"
   ]
  },
  {
   "cell_type": "code",
   "execution_count": 1,
   "metadata": {},
   "outputs": [
    {
     "name": "stdout",
     "output_type": "stream",
     "text": [
      "12.0\n"
     ]
    }
   ],
   "source": [
    "# Method 1\n",
    "import math\n",
    "\n",
    "# Usage\n",
    "x = math.sqrt(144)\n",
    "print(x)"
   ]
  },
  {
   "cell_type": "markdown",
   "metadata": {},
   "source": [
    "- With **Method 1**, the math module is imported and any function under this module would have to be called as `math.sqrt()`, `math.factorial()` etc. This method makes all functions readily available to import. "
   ]
  },
  {
   "cell_type": "code",
   "execution_count": 2,
   "metadata": {},
   "outputs": [
    {
     "name": "stdout",
     "output_type": "stream",
     "text": [
      "12.0\n"
     ]
    }
   ],
   "source": [
    "# Method 2\n",
    "from math import *\n",
    "\n",
    "# Usage\n",
    "x = sqrt(144)\n",
    "print(x)"
   ]
  },
  {
   "cell_type": "markdown",
   "metadata": {},
   "source": [
    "- With **Method 2**, all the functions in the math module are imported, so that any function would have to be called as `sqrt()`, `factorial()`etc. This method is discourage because it could lead to collison of namespaces and ineffective memory use."
   ]
  },
  {
   "cell_type": "code",
   "execution_count": 3,
   "metadata": {},
   "outputs": [
    {
     "name": "stdout",
     "output_type": "stream",
     "text": [
      "12.0\n"
     ]
    }
   ],
   "source": [
    "# Method 3\n",
    "from math import sqrt\n",
    "\n",
    "# Usage\n",
    "x = sqrt(144)\n",
    "print(x)"
   ]
  },
  {
   "cell_type": "markdown",
   "metadata": {},
   "source": [
    "- With method 3, functions are specifically imported. Here, the sqrt function was imported from the math module, and could be called using the function name `sqrt()`, `factorial()`. This is efficient as it makes the code readable, understandable and memory efficient. "
   ]
  },
  {
   "cell_type": "code",
   "execution_count": 4,
   "metadata": {},
   "outputs": [
    {
     "name": "stdout",
     "output_type": "stream",
     "text": [
      "12.0\n"
     ]
    }
   ],
   "source": [
    "# Method 4\n",
    "import math as m\n",
    "\n",
    "# Usage\n",
    "x = m.sqrt(144)\n",
    "print(x)"
   ]
  },
  {
   "cell_type": "markdown",
   "metadata": {},
   "source": [
    "- With Method 4, the application of aliasing is introduced using the `as` keyword. This is useful in trying to modify the name of the module mostly to reduce the length(short-hand). So, functions could be called as `m.sqrt()`, `m.factorial()`."
   ]
  },
  {
   "cell_type": "code",
   "execution_count": 5,
   "metadata": {},
   "outputs": [
    {
     "name": "stdout",
     "output_type": "stream",
     "text": [
      "12.0\n"
     ]
    }
   ],
   "source": [
    "# Method 5\n",
    "from math import sqrt as sq\n",
    "\n",
    "# Usage\n",
    "x = sq(144)\n",
    "print(x)"
   ]
  },
  {
   "cell_type": "markdown",
   "metadata": {},
   "source": [
    "- with Method 5, aliasing can be introduced while import specific functions from modules.  So, functions could be called as `sq()`"
   ]
  },
  {
   "cell_type": "markdown",
   "metadata": {},
   "source": [
    "\n",
    "In order to carry out data sccience operations such as data cleaning, data aggregation, data transformation, data visualiztion and other insight generation operations we need the dataset to be investigated and analyzed to be imported into python.\n",
    "\n",
    "### Formats of data commonly encountered in data science projects\n",
    "1. CSV\n",
    "2. XLSX\n",
    "3. TXT\n",
    "4. JSON\n",
    "5. XML\n",
    "6. ZIP\n",
    "7. HTML\n",
    "8. DOCX\n",
    "9. PDF\n",
    "10. MP3\n",
    "11. MP4\n",
    "12. SQL\n",
    "13. IMAGES\n",
    "14. HIERACHICAL DATA FORMAT...\n",
    "\n",
    "#### Do some more research and inform me the ones in missed 😀"
   ]
  },
  {
   "cell_type": "markdown",
   "metadata": {},
   "source": [
    "### Reading data\n",
    "\n",
    "_Reading is an action performed by computers, to acquire data from a source and place it into their volatile memory for processing._\n",
    "\n",
    "Let's explore this with a quick example of reading a comma seperated values(csv) file"
   ]
  },
  {
   "cell_type": "code",
   "execution_count": 6,
   "metadata": {},
   "outputs": [
    {
     "name": "stdout",
     "output_type": "stream",
     "text": [
      "Name, v1, v2, v3, v4, v5 \n",
      "Brain, 3, True, -12.7, 0, John \n"
     ]
    }
   ],
   "source": [
    "# Using context manager\n",
    "with open('../data/quick_ex.csv', mode='r') as reader:\n",
    "    print(reader.read())"
   ]
  },
  {
   "cell_type": "code",
   "execution_count": 7,
   "metadata": {},
   "outputs": [
    {
     "name": "stdout",
     "output_type": "stream",
     "text": [
      "['Name', ' v1', ' v2', ' v3', ' v4', ' v5 ']\n",
      "['Brain', ' 3', ' True', ' -12.7', ' 0', ' John ']\n"
     ]
    }
   ],
   "source": [
    "# Using Python built in module - CSV\n",
    "import csv\n",
    "\n",
    "with open('../data/quick_ex.csv',mode='r') as csv_reader:\n",
    "    lines = csv.reader(csv_reader,delimiter=',')\n",
    "    for line in lines:\n",
    "        print(line)"
   ]
  },
  {
   "cell_type": "code",
   "execution_count": 8,
   "metadata": {},
   "outputs": [],
   "source": [
    "# Using Pandas \n",
    "\n",
    "#Before you use Pandas you have to install it\n",
    "\n",
    "#!pip install Pandas\n",
    "\n",
    "#Using Pandas\n",
    "import pandas as pd\n",
    "\n",
    "df = pd.read_csv('../data/quick_ex.csv', delimiter=',')"
   ]
  },
  {
   "cell_type": "markdown",
   "metadata": {},
   "source": [
    "Other reading methods\n",
    "\n",
    "- pd.read_csv\n",
    "- pd.read_excel\n",
    "- pd.read_html\n",
    "- pd.read_json\n",
    "- pd.read_table\n",
    "- pd.read_sql\n",
    "..."
   ]
  },
  {
   "cell_type": "code",
   "execution_count": 10,
   "metadata": {},
   "outputs": [
    {
     "data": {
      "text/html": [
       "<div>\n",
       "<style scoped>\n",
       "    .dataframe tbody tr th:only-of-type {\n",
       "        vertical-align: middle;\n",
       "    }\n",
       "\n",
       "    .dataframe tbody tr th {\n",
       "        vertical-align: top;\n",
       "    }\n",
       "\n",
       "    .dataframe thead th {\n",
       "        text-align: right;\n",
       "    }\n",
       "</style>\n",
       "<table border=\"1\" class=\"dataframe\">\n",
       "  <thead>\n",
       "    <tr style=\"text-align: right;\">\n",
       "      <th></th>\n",
       "      <th>Name</th>\n",
       "      <th>v1</th>\n",
       "      <th>v2</th>\n",
       "      <th>v3</th>\n",
       "      <th>v4</th>\n",
       "      <th>v5</th>\n",
       "    </tr>\n",
       "  </thead>\n",
       "  <tbody>\n",
       "    <tr>\n",
       "      <th>0</th>\n",
       "      <td>Brain</td>\n",
       "      <td>3</td>\n",
       "      <td>True</td>\n",
       "      <td>-12.7</td>\n",
       "      <td>0</td>\n",
       "      <td>John</td>\n",
       "    </tr>\n",
       "  </tbody>\n",
       "</table>\n",
       "</div>"
      ],
      "text/plain": [
       "    Name   v1     v2    v3   v4     v5 \n",
       "0  Brain    3   True -12.7    0   John "
      ]
     },
     "execution_count": 10,
     "metadata": {},
     "output_type": "execute_result"
    }
   ],
   "source": [
    "# Getting an overview of the data (dataframe)\n",
    "df.head()"
   ]
  },
  {
   "cell_type": "markdown",
   "metadata": {},
   "source": [
    "***"
   ]
  },
  {
   "cell_type": "markdown",
   "metadata": {},
   "source": [
    "## Data Preprocessing\n",
    "\n",
    "In any Machine Learning process, Data Preprocessing is that step in which the data gets cleaned and transformed, to bring it to such a state that now the machine can easily parse it. "
   ]
  },
  {
   "cell_type": "markdown",
   "metadata": {},
   "source": [
    "<center><img src='../img/gigo.gif' style=\"width:800px;height:400px;\"> </center>\n",
    "<br>\n",
    "<center><h4 style=\"color:red\"><em> Garbage In, Garbage Out </em></h4><center>\n",
    "<center><h5 style=\"color:green\">In order to generate insights to drive decisons we need quality data<h5></center>"
   ]
  },
  {
   "cell_type": "code",
   "execution_count": null,
   "metadata": {},
   "outputs": [],
   "source": []
  }
 ],
 "metadata": {
  "kernelspec": {
   "display_name": "Python 3",
   "language": "python",
   "name": "python3"
  },
  "language_info": {
   "codemirror_mode": {
    "name": "ipython",
    "version": 3
   },
   "file_extension": ".py",
   "mimetype": "text/x-python",
   "name": "python",
   "nbconvert_exporter": "python",
   "pygments_lexer": "ipython3",
   "version": "3.7.6"
  }
 },
 "nbformat": 4,
 "nbformat_minor": 4
}
