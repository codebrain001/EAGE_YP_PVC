{
 "cells": [
  {
   "cell_type": "markdown",
   "metadata": {},
   "source": [
    "<center><img src='../img/eage.png' style=\"width:800px;height:400px;\"> </center>"
   ]
  },
  {
   "cell_type": "markdown",
   "metadata": {},
   "source": [
    "# **Python Virtual Classroom powered by Nigerian Chapter Young Professionals**\n",
    "\n",
    "## **Class: Importing and Data preprocessing**\n",
    "### *Presented by Aboze Brain John*\n",
    "    \n",
    "At the end of this class, students would understand concepts associated with importing data and theories associated with data cleaning. \n",
    "\n",
    "\n",
    "#### Requirements for this class:\n",
    "1. A computer\n",
    "2. Access to the internet\n",
    "3. An interest in learning Python\n",
    "4. High level of proficiency in English because of the technical language used in some part of the course\n",
    "5. Basic math knowledge: addition, subtraction, multiplication, division, knowledge of types of numbers such as integers and decimal numbers, exponentiation, etc.   "
   ]
  },
  {
   "cell_type": "code",
   "execution_count": null,
   "metadata": {},
   "outputs": [],
   "source": []
  }
 ],
 "metadata": {
  "kernelspec": {
   "display_name": "Python 3",
   "language": "python",
   "name": "python3"
  },
  "language_info": {
   "codemirror_mode": {
    "name": "ipython",
    "version": 3
   },
   "file_extension": ".py",
   "mimetype": "text/x-python",
   "name": "python",
   "nbconvert_exporter": "python",
   "pygments_lexer": "ipython3",
   "version": "3.7.6"
  }
 },
 "nbformat": 4,
 "nbformat_minor": 4
}
