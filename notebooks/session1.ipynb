{
 "cells": [
  {
   "cell_type": "markdown",
   "metadata": {},
   "source": [
    "![EAGE logo](../img/eage.png)"
   ]
  },
  {
   "cell_type": "markdown",
   "metadata": {},
   "source": [
    "# **Python Virtual Classroom powered by Nigerian Chapter Young Professionals**\n",
    "\n",
    "## **Class: Importing and Data preprocessing**\n",
    "### *Presented by Aboze Brain John*\n",
    "    \n",
    "At the end of this class, students would understand concepts associated with importing data and theories associated with data cleaning. \n",
    "\n",
    "\n",
    "#### Requirements for this class:\n",
    "1. A computer\n",
    "2. Access to the internet\n",
    "3. An interest in learning Python\n",
    "4. High level of proficiency in English because of the technical language used in some part of the course\n",
    "5. Basic math knowledge: addition, subtraction, multiplication, division, knowledge of types of numbers such as integers and decimal numbers, exponentiation, etc.   "
   ]
  },
  {
   "cell_type": "markdown",
   "metadata": {},
   "source": [
    "***"
   ]
  },
  {
   "cell_type": "markdown",
   "metadata": {},
   "source": [
    "irstly, addressing the first question, a quick outline of what can be imported in python are:\n",
    "\n",
    "1. Module: Python script files (.py files)\n",
    "2. Python objects: A collection of data and methods inside a module \n",
    "3. Python built-in modules: Native installed python scripts\n",
    "4. Packages: A collection of related scripts(modules), which must contains an __init__.py file.\n",
    "5. Library: A collection of packages.\n",
    "6. Data: Facts and statistics collected together for reference or analysis.\n",
    "Secondly, we can import all the items listed above into our our python script and/or jupyter notebook.\n",
    "\n",
    "💡 A Python script is a collection of commands in a file designed to be executed, usually have an etention name of '.py'. While a Jupyter notebook is an open-source web application that allows you to create and share documents that contain live code, equations, visualizations and narrative text with an extention of '.ipynb'. \n",
    "\n",
    "\n",
    "In order to have a well structured and understandable code, import what is only needed per time because unnecessary import can sometimes lead to a big waste of memory, breed redundacy and clashes of functions from different modules with coincidental names."
   ]
  },
  {
   "cell_type": "markdown",
   "metadata": {},
   "source": [
    "***"
   ]
  },
  {
   "cell_type": "markdown",
   "metadata": {},
   "source": [
    "#### Python Import Syntax (How to import)\n",
    "\n",
    "Let's explore the various ways we can import into the python environment. For this to be fully understood, let's explain using Python's built in Math module which provides access to the mathematical functions. Let's try to compute the following with the different methods:\n",
    "\n",
    "$$x = \\sqrt{144}$$"
   ]
  },
  {
   "cell_type": "code",
   "execution_count": null,
   "metadata": {},
   "outputs": [],
   "source": []
  }
 ],
 "metadata": {
  "kernelspec": {
   "display_name": "Python 3",
   "language": "python",
   "name": "python3"
  },
  "language_info": {
   "codemirror_mode": {
    "name": "ipython",
    "version": 3
   },
   "file_extension": ".py",
   "mimetype": "text/x-python",
   "name": "python",
   "nbconvert_exporter": "python",
   "pygments_lexer": "ipython3",
   "version": "3.7.6"
  }
 },
 "nbformat": 4,
 "nbformat_minor": 4
}
