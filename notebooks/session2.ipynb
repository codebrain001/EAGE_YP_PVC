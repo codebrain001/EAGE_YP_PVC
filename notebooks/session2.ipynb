{
 "cells": [
  {
   "cell_type": "markdown",
   "metadata": {},
   "source": [
    "# Introduction to regression analysis"
   ]
  },
  {
   "cell_type": "markdown",
   "metadata": {},
   "source": [
    "![classification](../img/mlclass.png)"
   ]
  },
  {
   "cell_type": "markdown",
   "metadata": {},
   "source": [
    "Regression and classification are both supervised learning methods, which means that they use labelled training data to train their models and make predictions. Therefore, those two tasks are often categorized under the same group in machine learning.\n",
    "\n",
    "The main difference between them is the output variable. While in regression, the output is numerical or continuous, in classification, the output is categorical or discrete."
   ]
  },
  {
   "cell_type": "markdown",
   "metadata": {},
   "source": [
    "***"
   ]
  },
  {
   "cell_type": "markdown",
   "metadata": {},
   "source": [
    "## What is regression?\n",
    "\n",
    "Regression analysis is defined in Wikipedia as:\n",
    "\n",
    "    In statistical modeling, regression analysis is a set of statistical processes for estimating the relationships between a dependent variable (often called the ‘outcome variable’) and one or more independent variables (often called ‘predictors’, ‘covariates’, or ‘features’).\n",
    "\n",
    "The terminology you will often listen related to regression analysis is:\n",
    "\n",
    "- Dependent variable or target variable: Variable to predict.\n",
    "- Independent variable or predictor variable: Variables to estimate the dependent variable.\n",
    "- Outlier: Observation that differs significantly from other observations. It should be avoided since it may hamper the result.\n",
    "- Multicollinearity: Situation in which two or more independent variables are highly linearly related.\n",
    "- Homoscedasticity or homogeneity of variance: Situation in which the error term is the same across all values of the independent variables.\n",
    "\n",
    "Regression analysis is primarily used for two distinct purposes. First, it is widely used for prediction and forecasting, which overlaps with the field of machine learning. Second, it is also used to infer causal relationships between independent and dependent variables."
   ]
  },
  {
   "cell_type": "markdown",
   "metadata": {},
   "source": [
    "## Types of regression\n",
    "\n",
    "There are various types of regressions which are used in data science and machine learning. Each type has its own importance on different scenarios, but at the core, all the regression methods analyze the effect of the independent variables on dependent variables. Here we mention some important types of regression:\n",
    "\n",
    "1. Linear Regression\n",
    "2. Polynomial Regression\n",
    "3. Support Vector Regression\n",
    "4. Decision Tree Regression\n",
    "5. Random Forest Regression\n",
    "6. Ridge Regression\n",
    "7. Lasso Regression\n",
    "8. Logistic Regression"
   ]
  },
  {
   "cell_type": "markdown",
   "metadata": {},
   "source": [
    "***"
   ]
  },
  {
   "cell_type": "markdown",
   "metadata": {},
   "source": [
    "### Choosing the correct regression model\n",
    "\n",
    "The only way to know the best model is by trying out all of them and studying and comparing their individual performance on the data. Explaining each one of them in detail will be time expensive so we highlight a few.\n",
    "\n",
    "**For this class, we will consider Linear regression**\n",
    "\n",
    "Regression is the study of dependence — A Predictive modelling technique\n",
    "\n",
    "1. It attempts to find the relationship between a DEPENDENT variable “Y” and an INDEPENDENT variable “X”.\n",
    "(Note: Y should be a continuous variable while X can be categorical or continuous)\n",
    "    \n",
    "There are two types of linear regression — Simple Linear Regression and Multiple Linear Regression.\n",
    "1. Simple linear regression will have one independent variable (predictor).\n",
    "2. Multiple linear regression will have more than one independent variable (predictors).\n",
    "   \n",
    "In a nutshell — Linear Regression maps a continuous X to a continuous Y."
   ]
  },
  {
   "cell_type": "markdown",
   "metadata": {},
   "source": [
    "#### Multiple Linear Regression"
   ]
  },
  {
   "cell_type": "markdown",
   "metadata": {},
   "source": [
    "$$ Y = b_0 + b_1*x_1 + b_2*x_2 + ...+ b_n*x_n$$"
   ]
  },
  {
   "cell_type": "markdown",
   "metadata": {},
   "source": [
    "where\n",
    " - Y = Dependent variable and \n",
    " - x1, x2, x3, …… xn = multiple independent variables\n",
    " - b0 is Y intercept\n",
    " - b1 to bn are slopes with respect to feature xi\n",
    " \n",
    "In multple linear regression each coefficient is interpreted as the estimate change in Y corresponds to one unit change in a variable, when other variables held constant."
   ]
  },
  {
   "cell_type": "markdown",
   "metadata": {},
   "source": [
    "### How to find the best coefficients to determine Y ???\n",
    "Two things we need to consider when we choose the coefficients, they are\n",
    "\n",
    "1. The independent variable must have a strong correlation with the dependent variable.\n",
    "2. The independent variable should not have a good correlation with any other independent variable.\n",
    "\n",
    "So finally, the correlation between the independent and dependent variables must be high and the correlation between the independent variables must be low. Then those coefficients are fit for multiple linear regression."
   ]
  },
  {
   "cell_type": "markdown",
   "metadata": {},
   "source": [
    "### Performance Metrics\n",
    "\n",
    "1. Coefficient Of Determination(R²)\n",
    "\n",
    "It helps to understand which amount of variation in y can be explained by the dependence on x using the particular regression model. The R² value close to 1, the better the fit. It means, the model can better predict the output(y) for the input(x).\n",
    "\n",
    "2. Root Mean Square Error(aka Root Mean Square Deviation)\n",
    "\n",
    "Root Mean Square Error is the standard deviation of the residuals(prediction errors). Residuals are a measure of how far from the regression line data points are. The lower the RMSE value, the model would be fit well."
   ]
  },
  {
   "cell_type": "markdown",
   "metadata": {},
   "source": [
    "### Overfitting and Underfitting\n",
    "\n",
    "1. Overfitting\n",
    "\n",
    "Simply, it happens when the model learns the existing data too well. Complex models, which have many features, are often prone to overfitting. If the model is overfitted, the R² value would be low when using with new data.\n",
    "\n",
    "2. Underfitting\n",
    "\n",
    "When the model can’t accurately capture the dependencies among data, the underfitting will happen. It often yields a low R² with known data and bad generalization capabilities when applied with new data."
   ]
  },
  {
   "cell_type": "markdown",
   "metadata": {},
   "source": [
    "## Enough talk lets code!"
   ]
  },
  {
   "cell_type": "code",
   "execution_count": 12,
   "metadata": {},
   "outputs": [],
   "source": [
    "#import libraries\n",
    "import pandas as pd\n",
    "import numpy as np\n",
    "import matplotlib.pyplot as plt\n",
    "import seaborn as sns\n",
    "\n",
    "from sklearn import linear_model\n",
    "from sklearn.metrics import mean_squared_error, r2_score\n",
    "from sklearn.model_selection import train_test_split"
   ]
  },
  {
   "cell_type": "markdown",
   "metadata": {},
   "source": [
    "#### Libaries description\n",
    "\n",
    "- NumPy is the fundamental package for scientific computing.\n",
    "- The scikit-learn is a widely used python library for machine learning, built on top of NumPy and some other packages.\n",
    "- Matplotlib is a Python 2D plotting library.\n",
    "- The pandas library, easy-to-use data structures and data analysis tools for the python programming language.\n"
   ]
  },
  {
   "cell_type": "markdown",
   "metadata": {},
   "source": [
    "#### Case study: Baseball Player\n",
    "\n",
    "Goal: Predict the batting average\n",
    "\n",
    "The dataset used for this Regression analysis is a baseball data of players performance. The dataset can be found <a href='https://college.cengage.com/mathematics/brase/understandable_statistics/7e/students/datasets/mlr/frames/frame.html'>here</a>\n",
    "\n",
    "Quick Description of the dataset features\n",
    "\n",
    "A random sample of major league baseball players was obtained.\n",
    "\n",
    "- X1 = batting average\n",
    "- X2 = runs scored/times at bat\n",
    "- X3 = doubles/times at bat\n",
    "- X4 = triples/times at bat\n",
    "- X5 = home runs/times at bat\n",
    "- X6 = strike outs/times at bat"
   ]
  },
  {
   "cell_type": "code",
   "execution_count": 13,
   "metadata": {},
   "outputs": [
    {
     "name": "stdout",
     "output_type": "stream",
     "text": [
      "*** No CODEPAGE record, no encoding_override: will use 'ascii'\n"
     ]
    }
   ],
   "source": [
    "# Reading dataset\n",
    "data_df = pd.read_excel('../data/baseball.xls')"
   ]
  },
  {
   "cell_type": "code",
   "execution_count": 14,
   "metadata": {},
   "outputs": [
    {
     "data": {
      "text/html": [
       "<div>\n",
       "<style scoped>\n",
       "    .dataframe tbody tr th:only-of-type {\n",
       "        vertical-align: middle;\n",
       "    }\n",
       "\n",
       "    .dataframe tbody tr th {\n",
       "        vertical-align: top;\n",
       "    }\n",
       "\n",
       "    .dataframe thead th {\n",
       "        text-align: right;\n",
       "    }\n",
       "</style>\n",
       "<table border=\"1\" class=\"dataframe\">\n",
       "  <thead>\n",
       "    <tr style=\"text-align: right;\">\n",
       "      <th></th>\n",
       "      <th>X1</th>\n",
       "      <th>X2</th>\n",
       "      <th>X3</th>\n",
       "      <th>X4</th>\n",
       "      <th>X5</th>\n",
       "      <th>X6</th>\n",
       "    </tr>\n",
       "  </thead>\n",
       "  <tbody>\n",
       "    <tr>\n",
       "      <th>0</th>\n",
       "      <td>0.283</td>\n",
       "      <td>0.144</td>\n",
       "      <td>0.049</td>\n",
       "      <td>0.012</td>\n",
       "      <td>0.013</td>\n",
       "      <td>0.086</td>\n",
       "    </tr>\n",
       "    <tr>\n",
       "      <th>1</th>\n",
       "      <td>0.276</td>\n",
       "      <td>0.125</td>\n",
       "      <td>0.039</td>\n",
       "      <td>0.013</td>\n",
       "      <td>0.002</td>\n",
       "      <td>0.062</td>\n",
       "    </tr>\n",
       "    <tr>\n",
       "      <th>2</th>\n",
       "      <td>0.281</td>\n",
       "      <td>0.141</td>\n",
       "      <td>0.045</td>\n",
       "      <td>0.021</td>\n",
       "      <td>0.013</td>\n",
       "      <td>0.074</td>\n",
       "    </tr>\n",
       "    <tr>\n",
       "      <th>3</th>\n",
       "      <td>0.328</td>\n",
       "      <td>0.189</td>\n",
       "      <td>0.043</td>\n",
       "      <td>0.001</td>\n",
       "      <td>0.030</td>\n",
       "      <td>0.032</td>\n",
       "    </tr>\n",
       "    <tr>\n",
       "      <th>4</th>\n",
       "      <td>0.290</td>\n",
       "      <td>0.161</td>\n",
       "      <td>0.044</td>\n",
       "      <td>0.011</td>\n",
       "      <td>0.070</td>\n",
       "      <td>0.076</td>\n",
       "    </tr>\n",
       "  </tbody>\n",
       "</table>\n",
       "</div>"
      ],
      "text/plain": [
       "      X1     X2     X3     X4     X5     X6\n",
       "0  0.283  0.144  0.049  0.012  0.013  0.086\n",
       "1  0.276  0.125  0.039  0.013  0.002  0.062\n",
       "2  0.281  0.141  0.045  0.021  0.013  0.074\n",
       "3  0.328  0.189  0.043  0.001  0.030  0.032\n",
       "4  0.290  0.161  0.044  0.011  0.070  0.076"
      ]
     },
     "execution_count": 14,
     "metadata": {},
     "output_type": "execute_result"
    }
   ],
   "source": [
    "data_df.head()"
   ]
  },
  {
   "cell_type": "code",
   "execution_count": 15,
   "metadata": {},
   "outputs": [
    {
     "data": {
      "text/html": [
       "<div>\n",
       "<style scoped>\n",
       "    .dataframe tbody tr th:only-of-type {\n",
       "        vertical-align: middle;\n",
       "    }\n",
       "\n",
       "    .dataframe tbody tr th {\n",
       "        vertical-align: top;\n",
       "    }\n",
       "\n",
       "    .dataframe thead th {\n",
       "        text-align: right;\n",
       "    }\n",
       "</style>\n",
       "<table border=\"1\" class=\"dataframe\">\n",
       "  <thead>\n",
       "    <tr style=\"text-align: right;\">\n",
       "      <th></th>\n",
       "      <th>X1</th>\n",
       "      <th>X2</th>\n",
       "      <th>X3</th>\n",
       "      <th>X4</th>\n",
       "      <th>X5</th>\n",
       "      <th>X6</th>\n",
       "    </tr>\n",
       "  </thead>\n",
       "  <tbody>\n",
       "    <tr>\n",
       "      <th>count</th>\n",
       "      <td>45.000000</td>\n",
       "      <td>45.000000</td>\n",
       "      <td>45.000000</td>\n",
       "      <td>45.000000</td>\n",
       "      <td>45.000000</td>\n",
       "      <td>45.000000</td>\n",
       "    </tr>\n",
       "    <tr>\n",
       "      <th>mean</th>\n",
       "      <td>0.280467</td>\n",
       "      <td>0.150889</td>\n",
       "      <td>0.046356</td>\n",
       "      <td>0.011289</td>\n",
       "      <td>0.024267</td>\n",
       "      <td>0.104333</td>\n",
       "    </tr>\n",
       "    <tr>\n",
       "      <th>std</th>\n",
       "      <td>0.044002</td>\n",
       "      <td>0.042009</td>\n",
       "      <td>0.010452</td>\n",
       "      <td>0.006960</td>\n",
       "      <td>0.022260</td>\n",
       "      <td>0.063057</td>\n",
       "    </tr>\n",
       "    <tr>\n",
       "      <th>min</th>\n",
       "      <td>0.188000</td>\n",
       "      <td>0.064000</td>\n",
       "      <td>0.025000</td>\n",
       "      <td>0.001000</td>\n",
       "      <td>0.000000</td>\n",
       "      <td>0.000000</td>\n",
       "    </tr>\n",
       "    <tr>\n",
       "      <th>25%</th>\n",
       "      <td>0.248000</td>\n",
       "      <td>0.119000</td>\n",
       "      <td>0.039000</td>\n",
       "      <td>0.007000</td>\n",
       "      <td>0.009000</td>\n",
       "      <td>0.062000</td>\n",
       "    </tr>\n",
       "    <tr>\n",
       "      <th>50%</th>\n",
       "      <td>0.290000</td>\n",
       "      <td>0.150000</td>\n",
       "      <td>0.045000</td>\n",
       "      <td>0.009000</td>\n",
       "      <td>0.013000</td>\n",
       "      <td>0.095000</td>\n",
       "    </tr>\n",
       "    <tr>\n",
       "      <th>75%</th>\n",
       "      <td>0.308000</td>\n",
       "      <td>0.189000</td>\n",
       "      <td>0.053000</td>\n",
       "      <td>0.016000</td>\n",
       "      <td>0.039000</td>\n",
       "      <td>0.138000</td>\n",
       "    </tr>\n",
       "    <tr>\n",
       "      <th>max</th>\n",
       "      <td>0.367000</td>\n",
       "      <td>0.259000</td>\n",
       "      <td>0.068000</td>\n",
       "      <td>0.030000</td>\n",
       "      <td>0.085000</td>\n",
       "      <td>0.264000</td>\n",
       "    </tr>\n",
       "  </tbody>\n",
       "</table>\n",
       "</div>"
      ],
      "text/plain": [
       "              X1         X2         X3         X4         X5         X6\n",
       "count  45.000000  45.000000  45.000000  45.000000  45.000000  45.000000\n",
       "mean    0.280467   0.150889   0.046356   0.011289   0.024267   0.104333\n",
       "std     0.044002   0.042009   0.010452   0.006960   0.022260   0.063057\n",
       "min     0.188000   0.064000   0.025000   0.001000   0.000000   0.000000\n",
       "25%     0.248000   0.119000   0.039000   0.007000   0.009000   0.062000\n",
       "50%     0.290000   0.150000   0.045000   0.009000   0.013000   0.095000\n",
       "75%     0.308000   0.189000   0.053000   0.016000   0.039000   0.138000\n",
       "max     0.367000   0.259000   0.068000   0.030000   0.085000   0.264000"
      ]
     },
     "execution_count": 15,
     "metadata": {},
     "output_type": "execute_result"
    }
   ],
   "source": [
    "data_df.describe()"
   ]
  },
  {
   "cell_type": "code",
   "execution_count": 16,
   "metadata": {},
   "outputs": [],
   "source": [
    "#Seperating the target and pedicators\n",
    "Y = data_df['X1']\n",
    "X = data_df[['X2','X3','X4','X5','X6']]"
   ]
  },
  {
   "cell_type": "markdown",
   "metadata": {},
   "source": [
    "### Splitting the datasets"
   ]
  },
  {
   "cell_type": "code",
   "execution_count": 6,
   "metadata": {},
   "outputs": [],
   "source": [
    "X_train, X_test, Y_train, Y_test = train_test_split(X, Y, test_size=0.2, random_state= 0)"
   ]
  },
  {
   "cell_type": "markdown",
   "metadata": {},
   "source": [
    "In train_test_split() function, we used test_size as 0.2, which means we use 20% of the data for testing and the remaining 80% for training."
   ]
  },
  {
   "cell_type": "markdown",
   "metadata": {},
   "source": [
    "### Model Building"
   ]
  },
  {
   "cell_type": "code",
   "execution_count": 7,
   "metadata": {},
   "outputs": [
    {
     "data": {
      "text/plain": [
       "LinearRegression(copy_X=True, fit_intercept=True, n_jobs=None, normalize=False)"
      ]
     },
     "execution_count": 7,
     "metadata": {},
     "output_type": "execute_result"
    }
   ],
   "source": [
    "model = linear_model.LinearRegression()\n",
    "model.fit(X_train, Y_train)"
   ]
  },
  {
   "cell_type": "code",
   "execution_count": 7,
   "metadata": {},
   "outputs": [
    {
     "name": "stdout",
     "output_type": "stream",
     "text": [
      "    Coefficient\n",
      "X2     0.518154\n",
      "X3     1.027110\n",
      "X4     0.518150\n",
      "X5     0.175801\n",
      "X6    -0.248293\n"
     ]
    }
   ],
   "source": [
    "coeff_df = pd.DataFrame(model.coef_, X.columns, columns=['Coefficient'])\n",
    "print(coeff_df)"
   ]
  },
  {
   "cell_type": "code",
   "execution_count": 8,
   "metadata": {},
   "outputs": [],
   "source": [
    "y_pred = model.predict(X_test)"
   ]
  },
  {
   "cell_type": "code",
   "execution_count": 9,
   "metadata": {},
   "outputs": [
    {
     "name": "stdout",
     "output_type": "stream",
     "text": [
      "    Actual  Predicted\n",
      "30   0.243   0.233866\n",
      "37   0.304   0.317188\n",
      "27   0.318   0.333119\n",
      "4    0.290   0.299402\n",
      "10   0.269   0.276333\n",
      "25   0.244   0.242289\n",
      "28   0.207   0.239242\n",
      "11   0.300   0.294018\n",
      "38   0.297   0.290114\n"
     ]
    }
   ],
   "source": [
    "df = pd.DataFrame({'Actual': Y_test, 'Predicted': y_pred})\n",
    "print(df.head(10))"
   ]
  },
  {
   "cell_type": "code",
   "execution_count": 10,
   "metadata": {},
   "outputs": [
    {
     "data": {
      "image/png": "[encoded data removed]",
      "text/plain": [
       "<Figure size 720x576 with 1 Axes>"
      ]
     },
     "metadata": {
      "needs_background": "light"
     },
     "output_type": "display_data"
    }
   ],
   "source": [
    "df.plot(kind='bar',figsize=(10,8))\n",
    "plt.grid(which='major', linestyle='-', linewidth='0.5', color='green')\n",
    "plt.grid(which='minor', linestyle=':', linewidth='0.5', color='black')\n",
    "plt.show()"
   ]
  },
  {
   "cell_type": "code",
   "execution_count": 18,
   "metadata": {},
   "outputs": [
    {
     "name": "stdout",
     "output_type": "stream",
     "text": [
      "Intercept: 0.17165100673312103\n",
      "Root Mean Square Error 0.013959349401614366\n",
      "R^2 Value: 0.8356045255486351\n"
     ]
    }
   ],
   "source": [
    "# Root Mean Squared Deviation\n",
    "rmsd = np.sqrt(mean_squared_error(Y_test, y_pred))      \n",
    "r2_value = r2_score(Y_test, y_pred)                     \n",
    "\n",
    "print(\"Intercept:\", model.intercept_)\n",
    "print(\"Root Mean Square Error\", rmsd)\n",
    "print(\"R^2 Value:\", r2_value)"
   ]
  },
  {
   "cell_type": "markdown",
   "metadata": {},
   "source": [
    "Here the R² value is 0.8356 and RMSE score is 0.0139, which shows the model is almost accurate and can make good predictions. R² value can range from 0 to 1. As the R² value close to 1 and low RMSE is desired for the model will make better predictions"
   ]
  },
  {
   "cell_type": "code",
   "execution_count": null,
   "metadata": {},
   "outputs": [],
   "source": []
  }
 ],
 "metadata": {
  "kernelspec": {
   "display_name": "Python 3",
   "language": "python",
   "name": "python3"
  },
  "language_info": {
   "codemirror_mode": {
    "name": "ipython",
    "version": 3
   },
   "file_extension": ".py",
   "mimetype": "text/x-python",
   "name": "python",
   "nbconvert_exporter": "python",
   "pygments_lexer": "ipython3",
   "version": "3.7.6"
  }
 },
 "nbformat": 4,
 "nbformat_minor": 4
}
