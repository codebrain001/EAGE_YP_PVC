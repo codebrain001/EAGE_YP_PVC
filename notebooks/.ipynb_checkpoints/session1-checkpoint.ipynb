{
 "cells": [
  {
   "cell_type": "markdown",
   "metadata": {},
   "source": [
    "<center><img src='../img/eage.png' style=\"width:800px;height:400px;\"> </center>"
   ]
  },
  {
   "cell_type": "markdown",
   "metadata": {},
   "source": [
    "<strong><h1 style='color:Green'>Python Virtual Classroom powered by Nigerian Chapter Young Professionals</h1></strong>\n",
    "<strong><h2>Class: Importing and Data preprocessing</h2><strong>\n",
    "<h3><em><span>Presented by Aboze Brain John</span></em></h3>\n",
    "    \n",
    "<p class='lead'> At the end of this class, students would understand concepts associated with importing data and theories associated with data cleaning.</p>    \n",
    "\n",
    "\n",
    "<h4>Requirements for this class:</h4>\n",
    "<ol>\n",
    "    <li>A computer</li>\n",
    "    <li>Access to the internet</li>\n",
    "    <li>An interest in learning Python</li>\n",
    "    <li>High level of proficiency in English because of the technical language used in some part of the course</li>\n",
    "    <li>Basic math knowledge: addition, subtraction, multiplication, division, knowledge of types of numbers such as integers and decimal numbers, exponentiation, etc.</li>\n",
    "</ol>\n",
    "    \n",
    "<br>\n",
    "<div class='alert alert-warning'> \n",
    "<b>NOTE<\\b> This notebook and related resources can be found on my GitHub repo <a href=''>here</a>.   "
   ]
  },
  {
   "cell_type": "code",
   "execution_count": null,
   "metadata": {},
   "outputs": [],
   "source": []
  }
 ],
 "metadata": {
  "kernelspec": {
   "display_name": "Python 3",
   "language": "python",
   "name": "python3"
  },
  "language_info": {
   "codemirror_mode": {
    "name": "ipython",
    "version": 3
   },
   "file_extension": ".py",
   "mimetype": "text/x-python",
   "name": "python",
   "nbconvert_exporter": "python",
   "pygments_lexer": "ipython3",
   "version": "3.7.6"
  }
 },
 "nbformat": 4,
 "nbformat_minor": 4
}
